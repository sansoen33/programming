{
 "cells": [
  {
   "cell_type": "code",
   "execution_count": null,
   "metadata": {},
   "outputs": [],
   "source": [
    "1.กำหนดให้ month = [\"Jan\", \"May\", \"Jul\", \"Aug\", \"Oct\", \"Dec\"]\n",
    "\n",
    "1.1 ให้เขียนคำสั่งโปรแกรมเรียกใช้เมธอด แทรกเดือนที่ขาดหายไป\n",
    "1.2 ให้เขียนคำสั่งโปรแกรมเรียกใช้เมธอด ลบชื่อเดือนตำแน่งที่ 2, 5, 9 ออกจากลิสต์\n",
    "1.3 ให้เขียนคำสั่งโปรแกรมเรียกใช้เมธอด แสดงชื่อเดือนที่เหลืออยู่ในลิสต์"
   ]
  },
  {
   "cell_type": "code",
   "execution_count": 5,
   "metadata": {},
   "outputs": [
    {
     "name": "stdout",
     "output_type": "stream",
     "text": [
      "แทรกเดือนที่หายไป= ['Jan', 'Feb', 'Mar', 'Apr', 'May', 'Jun', 'Jul', 'Aug', 'Sep', 'Oct', 'Nov', 'Dec']\n",
      "ลบชื่อเดือนตำแหน่งที่2,5,9 ออกจากลิสต์= ['Jan', 'Mar', 'Apr', 'Jun', 'Jul', 'Aug', 'Oct', 'Nov', 'Dec']\n",
      "แสดงชื่อเดือนที่เหลืออยู่ในลิสต์= ['Jan', 'Mar', 'Apr', 'Jun', 'Jul', 'Aug', 'Oct', 'Nov', 'Dec']\n"
     ]
    }
   ],
   "source": [
    "month=[\"Jan\",\"May\",\"Jul\",\"Aug\",\"Oct\",\"Dec\"]\n",
    "month.insert(1,\"Feb\")\n",
    "month.insert(2,\"Mar\")\n",
    "month.insert(3,\"Apr\")\n",
    "month.insert(5,\"Jun\")\n",
    "month.insert(8,\"Sep\")\n",
    "month.insert(10,\"Nov\")\n",
    "print(\"แทรกเดือนที่หายไป=\",month)\n",
    "month.remove(\"Feb\")\n",
    "month.remove(\"May\")\n",
    "month.remove(\"Sep\")\n",
    "print(\"ลบชื่อเดือนตำแหน่งที่2,5,9 ออกจากลิสต์=\",month)\n",
    "print(\"แสดงชื่อเดือนที่เหลืออยู่ในลิสต์=\",month)"
   ]
  },
  {
   "cell_type": "code",
   "execution_count": null,
   "metadata": {},
   "outputs": [],
   "source": [
    "2.กำหนดให้ days = [\"Sun\", \"Mon\", \"Tue\", \"Wed\", \"Thu\", \"Fri\", \"Sat\"]\n",
    "\n",
    "2.1 ให้เขียนคำสั่งโปรแกรมเรียกใช้เมธอดเรียงชื่อวันจากท้ายสุด\n",
    "2.2 ให้เขียนคำสั่งโปรแกรมเรียกใช้เมธอดเรียงลำดับชื่อวันตามตัวอักษร\n",
    "2.3 ให้เขียนคำสั่งโปรแกรมแสดงชื่อวัน ในตำแหน่งที่ 3, 5 และ 7"
   ]
  },
  {
   "cell_type": "code",
   "execution_count": 6,
   "metadata": {},
   "outputs": [
    {
     "name": "stdout",
     "output_type": "stream",
     "text": [
      "เรียงชื่อจากวันท้ายสุด= ['Sat', 'Fri', 'Thu', 'Wed', 'Tue', 'Mon', 'Sun']\n",
      "เรียงลำดับชื่อวันตามตัวอักษร= ['Fri', 'Mon', 'Sat', 'Sun', 'Thu', 'Tue', 'Wed']\n",
      "แสดงชื่อวันในตำแหน่งที่ 3,5 และ7= ['Sat', 'Thu', 'Wed']\n"
     ]
    }
   ],
   "source": [
    "days=[\"Sun\",\"Mon\",\"Tue\",\"Wed\",\"Thu\",\"Fri\",\"Sat\"]\n",
    "days.reverse()\n",
    "print(\"เรียงชื่อจากวันท้ายสุด=\",days)\n",
    "days.sort()\n",
    "print(\"เรียงลำดับชื่อวันตามตัวอักษร=\",days)\n",
    "print(\"แสดงชื่อวันในตำแหน่งที่ 3,5 และ7=\",days[2:7:2])"
   ]
  }
 ],
 "metadata": {
  "kernelspec": {
   "display_name": "Python 3",
   "language": "python",
   "name": "python3"
  },
  "language_info": {
   "codemirror_mode": {
    "name": "ipython",
    "version": 3
   },
   "file_extension": ".py",
   "mimetype": "text/x-python",
   "name": "python",
   "nbconvert_exporter": "python",
   "pygments_lexer": "ipython3",
   "version": "3.7.4"
  }
 },
 "nbformat": 4,
 "nbformat_minor": 2
}
