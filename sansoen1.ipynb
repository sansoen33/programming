{
 "cells": [
  {
   "cell_type": "code",
   "execution_count": null,
   "metadata": {},
   "outputs": [],
   "source": [
    "1.กำหนดให้ brand_cars = (\"Toyota\", \"Honda\", \"Benz\", \"BMW\", \"Tesla\", \"Ford\", \"KIA\", \"Volvo\" )<br>\n",
    "1.1 ให้เขียนคำสั่งโปรแกรมแสดงตำแหน่งของ Benz, Ford และ Volvo\n",
    "1.2 ให้เขียนคำสั่งโปรแกรมแสดงจำนวนข้อมูลทั้งหมดในทูเพิล\n",
    "1.3 ให้เขียนคำสั่งโปรแกรมตรวจสอบมียี่ห้อรถ Suzuki, Ferrari, Ford อยู่ใน cars หรือไม่<br></p>"
   ]
  },
  {
   "cell_type": "code",
   "execution_count": 1,
   "metadata": {},
   "outputs": [
    {
     "name": "stdout",
     "output_type": "stream",
     "text": [
      "ตำแหน่งของ Benz คือ 2\n",
      "ตำแหน่งของ Ford คือ 4\n",
      "ตำแหน่งของ Volvo คือ 6\n",
      "จำนวนข้อมูลทั้งหมดในทูเพิล คือ 7 รายการ\n",
      "มียี่ห้อรถ Suzuki อยู่ใน brand_cars หรือไม่ = False\n",
      "มียี่ห้อรถ Ferrari อยู่ใน brand_cars หรือไม่ = False\n",
      "มียี่ห้อรถ Ford อยู่ใน brand_cars หรือไม่ = True\n"
     ]
    }
   ],
   "source": [
    "brand_cars=(\"Toyota\",\"Honda\",\"Benz\",\"Tesla\",\"Ford\",\"Kia\",\"Volvo\")\n",
    "print(\"ตำแหน่งของ Benz คือ\",brand_cars.index(\"Benz\"))\n",
    "print(\"ตำแหน่งของ Ford คือ\",brand_cars.index(\"Ford\"))\n",
    "print(\"ตำแหน่งของ Volvo คือ\",brand_cars.index(\"Volvo\"))\n",
    "print(\"จำนวนข้อมูลทั้งหมดในทูเพิล คือ\",len(brand_cars),\"รายการ\")\n",
    "print(\"มียี่ห้อรถ Suzuki อยู่ใน brand_cars หรือไม่ =\",\"Suzuki\" in brand_cars)\n",
    "print(\"มียี่ห้อรถ Ferrari อยู่ใน brand_cars หรือไม่ =\",\"Ferrari\" in brand_cars)\n",
    "print(\"มียี่ห้อรถ Ford อยู่ใน brand_cars หรือไม่ =\",\"Ford\" in brand_cars)"
   ]
  }
 ],
 "metadata": {
  "kernelspec": {
   "display_name": "Python 3",
   "language": "python",
   "name": "python3"
  },
  "language_info": {
   "codemirror_mode": {
    "name": "ipython",
    "version": 3
   },
   "file_extension": ".py",
   "mimetype": "text/x-python",
   "name": "python",
   "nbconvert_exporter": "python",
   "pygments_lexer": "ipython3",
   "version": "3.7.4"
  }
 },
 "nbformat": 4,
 "nbformat_minor": 2
}
